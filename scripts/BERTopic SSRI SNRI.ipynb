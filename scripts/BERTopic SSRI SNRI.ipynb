{
 "cells": [
  {
   "attachments": {},
   "cell_type": "markdown",
   "metadata": {},
   "source": [
    "**Install packages**"
   ]
  },
  {
   "cell_type": "code",
   "execution_count": null,
   "metadata": {},
   "outputs": [],
   "source": [
    "!pip install bertopic\n",
    "!pip install joblib==1.1.0\n",
    "!pip install spacy_langdetect\n",
    "!pip install lexicalrichness\n",
    "!pip install sentence-transformers\n",
    "!pip install torch"
   ]
  },
  {
   "attachments": {},
   "cell_type": "markdown",
   "metadata": {},
   "source": [
    "**Import packages**"
   ]
  },
  {
   "cell_type": "code",
   "execution_count": null,
   "metadata": {},
   "outputs": [],
   "source": [
    "import numpy as np\n",
    "from bertopic import BERTopic\n",
    "import pandas as pd\n",
    "import torch\n",
    "from sklearn.feature_extraction.text import CountVectorizer\n",
    "from sentence_transformers import SentenceTransformer\n",
    "from umap import UMAP\n",
    "from hdbscan import HDBSCAN\n",
    "from bertopic.vectorizers import ClassTfidfTransformer"
   ]
  },
  {
   "attachments": {},
   "cell_type": "markdown",
   "metadata": {},
   "source": [
    "**Load cleaned data (SSRI_SNRI_all from cleaning script)**"
   ]
  },
  {
   "cell_type": "code",
   "execution_count": 3,
   "metadata": {},
   "outputs": [],
   "source": [
    "def LoadData(path):\n",
    "    data_df = pd.read_csv(path)\n",
    "    data_list = data_df[\"review\"].to_list()\n",
    "    return data_df, data_list\n",
    "\n",
    "data_df, data_list = LoadData(r'/PATH/SSRI_SNRI_all.csv')"
   ]
  },
  {
   "attachments": {},
   "cell_type": "markdown",
   "metadata": {},
   "source": [
    "****Initialize model and dependencies****"
   ]
  },
  {
   "cell_type": "code",
   "execution_count": 4,
   "metadata": {},
   "outputs": [],
   "source": [
    "#Initialize sentence transformer embedding model\n",
    "sentence_model = SentenceTransformer(\"all-MiniLM-L6-v2\")\n",
    "\n",
    "#Initialize topic representation model\n",
    "ctfidf_model = ClassTfidfTransformer()\n",
    "\n",
    "#Initialize UMAP\n",
    "umap_model = UMAP(\n",
    "                n_neighbors = 10, #the number of neighboring sample points used when making the manifold approximation. Larger values = more global view (larger clusters), smaller values = more local view. \n",
    "                n_components = 5, #best to keep to default of 5\n",
    "                min_dist = 0.0,\n",
    "                metric = 'cosine',\n",
    "                random_state=15)\n",
    "\n",
    "#Initialize HBDScan\n",
    "hdbscan_model = HDBSCAN(\n",
    "                    min_cluster_size = 5, #specifies minimum size of a cluster = how many clusters are generated. Default = 10. Increasing = less clusters of larger size. Usually not advised to decrease.\n",
    "                    metric = 'euclidean', #keep this when n_components are default value\n",
    "                    min_samples = 5, #usually = min_cluster_size. Specifies the amount of outliers generated. Lower than min_cluster_size = reduce the amount of noise.\n",
    "                    cluster_selection_method = 'eom', \n",
    "                    prediction_data = True)"
   ]
  },
  {
   "attachments": {},
   "cell_type": "markdown",
   "metadata": {},
   "source": [
    "**Run model**"
   ]
  },
  {
   "cell_type": "code",
   "execution_count": 5,
   "metadata": {},
   "outputs": [],
   "source": [
    "model = BERTopic(\n",
    "                embedding_model = sentence_model,\n",
    "                umap_model = umap_model,\n",
    "                hdbscan_model = hdbscan_model,\n",
    "                ctfidf_model = ctfidf_model,\n",
    "                calculate_probabilities = True, #calculate the probabilities of each topic to each document\n",
    "                top_n_words = 10, #the number of words per topic to be extracted. Advice: Keep this value below 30 and preferably between 10 and 20.\n",
    "                #diversity = 0.2, #limit the number of duplicate words we find in each topic. 0 = not at all diverse, 1 = completely diverse\n",
    "                min_topic_size = 10, #specifies what the minimum size a topic can be. Lower value = more topics created. Too low can lead to many micro clusters. Default of 10.\n",
    "                nr_topics = 15 #specifies after training the number of topics that will be reduced to. Use \"auto\" to automatically reduce topics using HDBSCAN.\n",
    "                )\n",
    "\n",
    "topics, probs = model.fit_transform(data_list)\n",
    "\n",
    "#Apply vectorizer\n",
    "vectorizer_model = CountVectorizer(stop_words = \"english\",\n",
    "                                    ngram_range = (1, 2), #Used when creating the topic representation. The number of words you want in your topic representation. To e.g. represent \"New York\" as one topic, n-gram range should be (1, 2)\n",
    "                                    min_df = 5) #ignore terms that have a document frequency lower than the given threshold\n",
    "                                    #max_df = 300) #ignore terms that have a document frequency higher than the given threshold. #300 worked well, testing lower\n",
    "\n",
    "#Update model\n",
    "model.update_topics(data_list, vectorizer_model = vectorizer_model)\n",
    "\n",
    "#Save model\n",
    "model.save(\"/Users/evasahlholdt/Desktop/MA/NLP/Exam/Code/NLP_exam/topic_models/BERTopic\")\n",
    "\n",
    "#Set custom labels\n",
    "topic_labels = model.generate_topic_labels(nr_words = 2, topic_prefix = True, word_length = 10, separator = \", \")\n",
    "model.set_topic_labels(topic_labels)"
   ]
  },
  {
   "attachments": {},
   "cell_type": "markdown",
   "metadata": {},
   "source": [
    "**Save dataframe with reviews according to topics for sentiment analysis**"
   ]
  },
  {
   "cell_type": "code",
   "execution_count": 7,
   "metadata": {},
   "outputs": [],
   "source": [
    "topic_df = pd.DataFrame({'topic': topics, 'document': data_list})\n",
    "topic_df.rename(columns={'document':'review'}, inplace=True)\n",
    "topic_reviews = data_df.merge(topic_df, on = 'review')\n",
    "topic_reviews.to_csv(r'/Users/evasahlholdt/Desktop/MA/NLP/Exam/Code/NLP_exam/datasets/topic_reviews_df.csv', index = False, header = True)"
   ]
  },
  {
   "attachments": {},
   "cell_type": "markdown",
   "metadata": {},
   "source": [
    "**Extract class-wise topics**"
   ]
  },
  {
   "cell_type": "code",
   "execution_count": 9,
   "metadata": {},
   "outputs": [],
   "source": [
    "#Create topic tables\n",
    "\n",
    "def TopicTable(model, data_df, data_list, topic_labels, column):\n",
    "    classes = data_df[column].to_list() #check\n",
    "    topic_table = model.topics_per_class(data_list, classes = classes)\n",
    "    label_len = len(topic_labels)\n",
    "    table_len = len(topic_table)\n",
    "    topic_table[\"Label\"] = topic_labels * int(table_len/label_len)\n",
    "    return topic_table\n",
    "\n",
    "topic_table_drug = TopicTable(model, data_df, data_list, topic_labels, \"drugName\")\n",
    "topic_table_sent = TopicTable(model, data_df, data_list, topic_labels, \"rating_class\")"
   ]
  },
  {
   "attachments": {},
   "cell_type": "markdown",
   "metadata": {},
   "source": [
    "**Calculate relative frequencies**"
   ]
  },
  {
   "cell_type": "code",
   "execution_count": 21,
   "metadata": {},
   "outputs": [],
   "source": [
    "#How many reviews in each drug class?\n",
    "n_SSRI = len(data_df[data_df[\"drugName\"] == \"SSRI\"])\n",
    "n_SNRI = len(data_df[data_df[\"drugName\"] == \"SNRI\"])\n",
    "\n",
    "#Copy table to avoid overwriting\n",
    "topic_table_drug_copy = topic_table_drug.copy()\n",
    "\n",
    "#loop through dataframe to calculate respective new values\n",
    "for index, row in topic_table_drug_copy.iterrows():\n",
    "  if row['Class'] == 'SSRI':\n",
    "    topic_table_drug_copy.loc[index,'Frequency'] = row['Frequency'] / n_SSRI * 100\n",
    "  elif row['Class'] == 'SNRI':\n",
    "    topic_table_drug_copy.loc[index,'Frequency'] = row['Frequency'] / n_SNRI * 100\n",
    "\n",
    "#Add the relative freq column to original dataframe\n",
    "rel_freq = topic_table_drug_copy[\"Frequency\"].to_list()\n",
    "topic_table_drug[\"Relative Frequency\"] = rel_freq\n",
    "\n",
    "#Same procedure\n",
    "n_SSRI_pos = len(data_df[data_df[\"rating_class\"] == \"positive_SSRI\"])\n",
    "n_SSRI_neg = len(data_df[data_df[\"rating_class\"] == \"negative_SSRI\"])\n",
    "n_SNRI_pos = len(data_df[data_df[\"rating_class\"] == \"positive_SNRI\"])\n",
    "n_SNRI_neg = len(data_df[data_df[\"rating_class\"] == \"negative_SNRI\"])\n",
    "\n",
    "#Copy table to avoid overwriting\n",
    "topic_table_sent_copy = topic_table_sent.copy()\n",
    "\n",
    "#loop through dataframe to calculate respective new values\n",
    "for index, row in topic_table_sent_copy.iterrows():\n",
    "  if row['Class'] == 'negative_SSRI':\n",
    "    topic_table_sent_copy.loc[index,'Frequency'] = row['Frequency'] / n_SSRI_neg * 100\n",
    "  elif row['Class'] == 'positive_SSRI':\n",
    "    topic_table_sent_copy.loc[index,'Frequency'] = row['Frequency'] / n_SSRI_pos * 100\n",
    "  elif row['Class'] == 'negative_SNRI':\n",
    "    topic_table_sent_copy.loc[index,'Frequency'] = row['Frequency'] / n_SNRI_pos * 100\n",
    "  elif row['Class'] == 'positive_SNRI':\n",
    "    topic_table_sent_copy.loc[index,'Frequency'] = row['Frequency'] / n_SNRI_pos * 100\n",
    "\n",
    "#Add the relative freq column to original dataframe\n",
    "rel_freq = topic_table_sent_copy[\"Frequency\"].to_list()\n",
    "topic_table_sent[\"Relative Frequency\"] = rel_freq\n"
   ]
  },
  {
   "attachments": {},
   "cell_type": "markdown",
   "metadata": {},
   "source": [
    "**Visualizations**"
   ]
  },
  {
   "attachments": {},
   "cell_type": "markdown",
   "metadata": {},
   "source": [
    "**Hierchical clustering and top words**"
   ]
  },
  {
   "cell_type": "code",
   "execution_count": 28,
   "metadata": {},
   "outputs": [
    {
     "data": {
      "application/vnd.plotly.v1+json": {
       "config": {
        "plotlyServerURL": "https://plot.ly"
       },
       "data": [
        {
         "hoverinfo": "text",
         "marker": {
          "color": "rgb(0,116,217)"
         },
         "mode": "lines",
         "type": "scatter",
         "x": [
          0,
          1.0337218918363866,
          1.0337218918363866,
          0
         ],
         "xaxis": "x",
         "y": [
          -15,
          -15,
          -25,
          -25
         ],
         "yaxis": "y"
        },
        {
         "hoverinfo": "text",
         "marker": {
          "color": "rgb(0,116,217)"
         },
         "mode": "lines",
         "type": "scatter",
         "x": [
          0,
          1.1361070571792002,
          1.1361070571792002,
          1.0337218918363866
         ],
         "xaxis": "x",
         "y": [
          -5,
          -5,
          -20,
          -20
         ],
         "yaxis": "y"
        },
        {
         "hoverinfo": "text",
         "marker": {
          "color": "rgb(61,153,112)"
         },
         "mode": "lines",
         "type": "scatter",
         "x": [
          0,
          0.5172149256471301,
          0.5172149256471301,
          0
         ],
         "xaxis": "x",
         "y": [
          -35,
          -35,
          -45,
          -45
         ],
         "yaxis": "y"
        },
        {
         "hoverinfo": "text",
         "marker": {
          "color": "rgb(255,65,54)"
         },
         "mode": "lines",
         "type": "scatter",
         "x": [
          0,
          0.8222672827652124,
          0.8222672827652124,
          0
         ],
         "xaxis": "x",
         "y": [
          -55,
          -55,
          -65,
          -65
         ],
         "yaxis": "y"
        },
        {
         "hoverinfo": "text",
         "marker": {
          "color": "rgb(255,65,54)"
         },
         "mode": "lines",
         "type": "scatter",
         "x": [
          0.8222672827652124,
          0.9561020042060232,
          0.9561020042060232,
          0
         ],
         "xaxis": "x",
         "y": [
          -60,
          -60,
          -75,
          -75
         ],
         "yaxis": "y"
        },
        {
         "hoverinfo": "text",
         "marker": {
          "color": "rgb(0,116,217)"
         },
         "mode": "lines",
         "type": "scatter",
         "x": [
          0.5172149256471301,
          1.0563486344181103,
          1.0563486344181103,
          0.9561020042060232
         ],
         "xaxis": "x",
         "y": [
          -40,
          -40,
          -67.5,
          -67.5
         ],
         "yaxis": "y"
        },
        {
         "hoverinfo": "text",
         "marker": {
          "color": "rgb(35,205,205)"
         },
         "mode": "lines",
         "type": "scatter",
         "x": [
          0,
          0.42766462868554067,
          0.42766462868554067,
          0
         ],
         "xaxis": "x",
         "y": [
          -95,
          -95,
          -105,
          -105
         ],
         "yaxis": "y"
        },
        {
         "hoverinfo": "text",
         "marker": {
          "color": "rgb(35,205,205)"
         },
         "mode": "lines",
         "type": "scatter",
         "x": [
          0.42766462868554067,
          0.5714980078597386,
          0.5714980078597386,
          0
         ],
         "xaxis": "x",
         "y": [
          -100,
          -100,
          -115,
          -115
         ],
         "yaxis": "y"
        },
        {
         "hoverinfo": "text",
         "marker": {
          "color": "rgb(35,205,205)"
         },
         "mode": "lines",
         "type": "scatter",
         "x": [
          0,
          0.678974562949386,
          0.678974562949386,
          0.5714980078597386
         ],
         "xaxis": "x",
         "y": [
          -85,
          -85,
          -107.5,
          -107.5
         ],
         "yaxis": "y"
        },
        {
         "hoverinfo": "text",
         "marker": {
          "color": "rgb(35,205,205)"
         },
         "mode": "lines",
         "type": "scatter",
         "x": [
          0,
          0.40787463453921746,
          0.40787463453921746,
          0
         ],
         "xaxis": "x",
         "y": [
          -125,
          -125,
          -135,
          -135
         ],
         "yaxis": "y"
        },
        {
         "hoverinfo": "text",
         "marker": {
          "color": "rgb(35,205,205)"
         },
         "mode": "lines",
         "type": "scatter",
         "x": [
          0.40787463453921746,
          0.625783919811465,
          0.625783919811465,
          0
         ],
         "xaxis": "x",
         "y": [
          -130,
          -130,
          -145,
          -145
         ],
         "yaxis": "y"
        },
        {
         "hoverinfo": "text",
         "marker": {
          "color": "rgb(35,205,205)"
         },
         "mode": "lines",
         "type": "scatter",
         "x": [
          0.678974562949386,
          0.7309300537848696,
          0.7309300537848696,
          0.625783919811465
         ],
         "xaxis": "x",
         "y": [
          -96.25,
          -96.25,
          -137.5,
          -137.5
         ],
         "yaxis": "y"
        },
        {
         "hoverinfo": "text",
         "marker": {
          "color": "rgb(0,116,217)"
         },
         "mode": "lines",
         "type": "scatter",
         "x": [
          1.0563486344181103,
          1.2306597251318392,
          1.2306597251318392,
          0.7309300537848696
         ],
         "xaxis": "x",
         "y": [
          -53.75,
          -53.75,
          -116.875,
          -116.875
         ],
         "yaxis": "y"
        },
        {
         "hoverinfo": "text",
         "marker": {
          "color": "rgb(0,116,217)"
         },
         "mode": "lines",
         "type": "scatter",
         "x": [
          1.1361070571792002,
          1.8349296798064163,
          1.8349296798064163,
          1.2306597251318392
         ],
         "xaxis": "x",
         "y": [
          -12.5,
          -12.5,
          -85.3125,
          -85.3125
         ],
         "yaxis": "y"
        }
       ],
       "layout": {
        "autosize": false,
        "height": 425,
        "hoverlabel": {
         "bgcolor": "white",
         "font": {
          "family": "Rockwell",
          "size": 16
         }
        },
        "hovermode": "closest",
        "plot_bgcolor": "#ECEFF1",
        "showlegend": false,
        "template": {
         "data": {
          "bar": [
           {
            "error_x": {
             "color": "#2a3f5f"
            },
            "error_y": {
             "color": "#2a3f5f"
            },
            "marker": {
             "line": {
              "color": "white",
              "width": 0.5
             },
             "pattern": {
              "fillmode": "overlay",
              "size": 10,
              "solidity": 0.2
             }
            },
            "type": "bar"
           }
          ],
          "barpolar": [
           {
            "marker": {
             "line": {
              "color": "white",
              "width": 0.5
             },
             "pattern": {
              "fillmode": "overlay",
              "size": 10,
              "solidity": 0.2
             }
            },
            "type": "barpolar"
           }
          ],
          "carpet": [
           {
            "aaxis": {
             "endlinecolor": "#2a3f5f",
             "gridcolor": "#C8D4E3",
             "linecolor": "#C8D4E3",
             "minorgridcolor": "#C8D4E3",
             "startlinecolor": "#2a3f5f"
            },
            "baxis": {
             "endlinecolor": "#2a3f5f",
             "gridcolor": "#C8D4E3",
             "linecolor": "#C8D4E3",
             "minorgridcolor": "#C8D4E3",
             "startlinecolor": "#2a3f5f"
            },
            "type": "carpet"
           }
          ],
          "choropleth": [
           {
            "colorbar": {
             "outlinewidth": 0,
             "ticks": ""
            },
            "type": "choropleth"
           }
          ],
          "contour": [
           {
            "colorbar": {
             "outlinewidth": 0,
             "ticks": ""
            },
            "colorscale": [
             [
              0,
              "#0d0887"
             ],
             [
              0.1111111111111111,
              "#46039f"
             ],
             [
              0.2222222222222222,
              "#7201a8"
             ],
             [
              0.3333333333333333,
              "#9c179e"
             ],
             [
              0.4444444444444444,
              "#bd3786"
             ],
             [
              0.5555555555555556,
              "#d8576b"
             ],
             [
              0.6666666666666666,
              "#ed7953"
             ],
             [
              0.7777777777777778,
              "#fb9f3a"
             ],
             [
              0.8888888888888888,
              "#fdca26"
             ],
             [
              1,
              "#f0f921"
             ]
            ],
            "type": "contour"
           }
          ],
          "contourcarpet": [
           {
            "colorbar": {
             "outlinewidth": 0,
             "ticks": ""
            },
            "type": "contourcarpet"
           }
          ],
          "heatmap": [
           {
            "colorbar": {
             "outlinewidth": 0,
             "ticks": ""
            },
            "colorscale": [
             [
              0,
              "#0d0887"
             ],
             [
              0.1111111111111111,
              "#46039f"
             ],
             [
              0.2222222222222222,
              "#7201a8"
             ],
             [
              0.3333333333333333,
              "#9c179e"
             ],
             [
              0.4444444444444444,
              "#bd3786"
             ],
             [
              0.5555555555555556,
              "#d8576b"
             ],
             [
              0.6666666666666666,
              "#ed7953"
             ],
             [
              0.7777777777777778,
              "#fb9f3a"
             ],
             [
              0.8888888888888888,
              "#fdca26"
             ],
             [
              1,
              "#f0f921"
             ]
            ],
            "type": "heatmap"
           }
          ],
          "heatmapgl": [
           {
            "colorbar": {
             "outlinewidth": 0,
             "ticks": ""
            },
            "colorscale": [
             [
              0,
              "#0d0887"
             ],
             [
              0.1111111111111111,
              "#46039f"
             ],
             [
              0.2222222222222222,
              "#7201a8"
             ],
             [
              0.3333333333333333,
              "#9c179e"
             ],
             [
              0.4444444444444444,
              "#bd3786"
             ],
             [
              0.5555555555555556,
              "#d8576b"
             ],
             [
              0.6666666666666666,
              "#ed7953"
             ],
             [
              0.7777777777777778,
              "#fb9f3a"
             ],
             [
              0.8888888888888888,
              "#fdca26"
             ],
             [
              1,
              "#f0f921"
             ]
            ],
            "type": "heatmapgl"
           }
          ],
          "histogram": [
           {
            "marker": {
             "pattern": {
              "fillmode": "overlay",
              "size": 10,
              "solidity": 0.2
             }
            },
            "type": "histogram"
           }
          ],
          "histogram2d": [
           {
            "colorbar": {
             "outlinewidth": 0,
             "ticks": ""
            },
            "colorscale": [
             [
              0,
              "#0d0887"
             ],
             [
              0.1111111111111111,
              "#46039f"
             ],
             [
              0.2222222222222222,
              "#7201a8"
             ],
             [
              0.3333333333333333,
              "#9c179e"
             ],
             [
              0.4444444444444444,
              "#bd3786"
             ],
             [
              0.5555555555555556,
              "#d8576b"
             ],
             [
              0.6666666666666666,
              "#ed7953"
             ],
             [
              0.7777777777777778,
              "#fb9f3a"
             ],
             [
              0.8888888888888888,
              "#fdca26"
             ],
             [
              1,
              "#f0f921"
             ]
            ],
            "type": "histogram2d"
           }
          ],
          "histogram2dcontour": [
           {
            "colorbar": {
             "outlinewidth": 0,
             "ticks": ""
            },
            "colorscale": [
             [
              0,
              "#0d0887"
             ],
             [
              0.1111111111111111,
              "#46039f"
             ],
             [
              0.2222222222222222,
              "#7201a8"
             ],
             [
              0.3333333333333333,
              "#9c179e"
             ],
             [
              0.4444444444444444,
              "#bd3786"
             ],
             [
              0.5555555555555556,
              "#d8576b"
             ],
             [
              0.6666666666666666,
              "#ed7953"
             ],
             [
              0.7777777777777778,
              "#fb9f3a"
             ],
             [
              0.8888888888888888,
              "#fdca26"
             ],
             [
              1,
              "#f0f921"
             ]
            ],
            "type": "histogram2dcontour"
           }
          ],
          "mesh3d": [
           {
            "colorbar": {
             "outlinewidth": 0,
             "ticks": ""
            },
            "type": "mesh3d"
           }
          ],
          "parcoords": [
           {
            "line": {
             "colorbar": {
              "outlinewidth": 0,
              "ticks": ""
             }
            },
            "type": "parcoords"
           }
          ],
          "pie": [
           {
            "automargin": true,
            "type": "pie"
           }
          ],
          "scatter": [
           {
            "fillpattern": {
             "fillmode": "overlay",
             "size": 10,
             "solidity": 0.2
            },
            "type": "scatter"
           }
          ],
          "scatter3d": [
           {
            "line": {
             "colorbar": {
              "outlinewidth": 0,
              "ticks": ""
             }
            },
            "marker": {
             "colorbar": {
              "outlinewidth": 0,
              "ticks": ""
             }
            },
            "type": "scatter3d"
           }
          ],
          "scattercarpet": [
           {
            "marker": {
             "colorbar": {
              "outlinewidth": 0,
              "ticks": ""
             }
            },
            "type": "scattercarpet"
           }
          ],
          "scattergeo": [
           {
            "marker": {
             "colorbar": {
              "outlinewidth": 0,
              "ticks": ""
             }
            },
            "type": "scattergeo"
           }
          ],
          "scattergl": [
           {
            "marker": {
             "colorbar": {
              "outlinewidth": 0,
              "ticks": ""
             }
            },
            "type": "scattergl"
           }
          ],
          "scattermapbox": [
           {
            "marker": {
             "colorbar": {
              "outlinewidth": 0,
              "ticks": ""
             }
            },
            "type": "scattermapbox"
           }
          ],
          "scatterpolar": [
           {
            "marker": {
             "colorbar": {
              "outlinewidth": 0,
              "ticks": ""
             }
            },
            "type": "scatterpolar"
           }
          ],
          "scatterpolargl": [
           {
            "marker": {
             "colorbar": {
              "outlinewidth": 0,
              "ticks": ""
             }
            },
            "type": "scatterpolargl"
           }
          ],
          "scatterternary": [
           {
            "marker": {
             "colorbar": {
              "outlinewidth": 0,
              "ticks": ""
             }
            },
            "type": "scatterternary"
           }
          ],
          "surface": [
           {
            "colorbar": {
             "outlinewidth": 0,
             "ticks": ""
            },
            "colorscale": [
             [
              0,
              "#0d0887"
             ],
             [
              0.1111111111111111,
              "#46039f"
             ],
             [
              0.2222222222222222,
              "#7201a8"
             ],
             [
              0.3333333333333333,
              "#9c179e"
             ],
             [
              0.4444444444444444,
              "#bd3786"
             ],
             [
              0.5555555555555556,
              "#d8576b"
             ],
             [
              0.6666666666666666,
              "#ed7953"
             ],
             [
              0.7777777777777778,
              "#fb9f3a"
             ],
             [
              0.8888888888888888,
              "#fdca26"
             ],
             [
              1,
              "#f0f921"
             ]
            ],
            "type": "surface"
           }
          ],
          "table": [
           {
            "cells": {
             "fill": {
              "color": "#EBF0F8"
             },
             "line": {
              "color": "white"
             }
            },
            "header": {
             "fill": {
              "color": "#C8D4E3"
             },
             "line": {
              "color": "white"
             }
            },
            "type": "table"
           }
          ]
         },
         "layout": {
          "annotationdefaults": {
           "arrowcolor": "#2a3f5f",
           "arrowhead": 0,
           "arrowwidth": 1
          },
          "autotypenumbers": "strict",
          "coloraxis": {
           "colorbar": {
            "outlinewidth": 0,
            "ticks": ""
           }
          },
          "colorscale": {
           "diverging": [
            [
             0,
             "#8e0152"
            ],
            [
             0.1,
             "#c51b7d"
            ],
            [
             0.2,
             "#de77ae"
            ],
            [
             0.3,
             "#f1b6da"
            ],
            [
             0.4,
             "#fde0ef"
            ],
            [
             0.5,
             "#f7f7f7"
            ],
            [
             0.6,
             "#e6f5d0"
            ],
            [
             0.7,
             "#b8e186"
            ],
            [
             0.8,
             "#7fbc41"
            ],
            [
             0.9,
             "#4d9221"
            ],
            [
             1,
             "#276419"
            ]
           ],
           "sequential": [
            [
             0,
             "#0d0887"
            ],
            [
             0.1111111111111111,
             "#46039f"
            ],
            [
             0.2222222222222222,
             "#7201a8"
            ],
            [
             0.3333333333333333,
             "#9c179e"
            ],
            [
             0.4444444444444444,
             "#bd3786"
            ],
            [
             0.5555555555555556,
             "#d8576b"
            ],
            [
             0.6666666666666666,
             "#ed7953"
            ],
            [
             0.7777777777777778,
             "#fb9f3a"
            ],
            [
             0.8888888888888888,
             "#fdca26"
            ],
            [
             1,
             "#f0f921"
            ]
           ],
           "sequentialminus": [
            [
             0,
             "#0d0887"
            ],
            [
             0.1111111111111111,
             "#46039f"
            ],
            [
             0.2222222222222222,
             "#7201a8"
            ],
            [
             0.3333333333333333,
             "#9c179e"
            ],
            [
             0.4444444444444444,
             "#bd3786"
            ],
            [
             0.5555555555555556,
             "#d8576b"
            ],
            [
             0.6666666666666666,
             "#ed7953"
            ],
            [
             0.7777777777777778,
             "#fb9f3a"
            ],
            [
             0.8888888888888888,
             "#fdca26"
            ],
            [
             1,
             "#f0f921"
            ]
           ]
          },
          "colorway": [
           "#636efa",
           "#EF553B",
           "#00cc96",
           "#ab63fa",
           "#FFA15A",
           "#19d3f3",
           "#FF6692",
           "#B6E880",
           "#FF97FF",
           "#FECB52"
          ],
          "font": {
           "color": "#2a3f5f"
          },
          "geo": {
           "bgcolor": "white",
           "lakecolor": "white",
           "landcolor": "white",
           "showlakes": true,
           "showland": true,
           "subunitcolor": "#C8D4E3"
          },
          "hoverlabel": {
           "align": "left"
          },
          "hovermode": "closest",
          "mapbox": {
           "style": "light"
          },
          "paper_bgcolor": "white",
          "plot_bgcolor": "white",
          "polar": {
           "angularaxis": {
            "gridcolor": "#EBF0F8",
            "linecolor": "#EBF0F8",
            "ticks": ""
           },
           "bgcolor": "white",
           "radialaxis": {
            "gridcolor": "#EBF0F8",
            "linecolor": "#EBF0F8",
            "ticks": ""
           }
          },
          "scene": {
           "xaxis": {
            "backgroundcolor": "white",
            "gridcolor": "#DFE8F3",
            "gridwidth": 2,
            "linecolor": "#EBF0F8",
            "showbackground": true,
            "ticks": "",
            "zerolinecolor": "#EBF0F8"
           },
           "yaxis": {
            "backgroundcolor": "white",
            "gridcolor": "#DFE8F3",
            "gridwidth": 2,
            "linecolor": "#EBF0F8",
            "showbackground": true,
            "ticks": "",
            "zerolinecolor": "#EBF0F8"
           },
           "zaxis": {
            "backgroundcolor": "white",
            "gridcolor": "#DFE8F3",
            "gridwidth": 2,
            "linecolor": "#EBF0F8",
            "showbackground": true,
            "ticks": "",
            "zerolinecolor": "#EBF0F8"
           }
          },
          "shapedefaults": {
           "line": {
            "color": "#2a3f5f"
           }
          },
          "ternary": {
           "aaxis": {
            "gridcolor": "#DFE8F3",
            "linecolor": "#A2B1C6",
            "ticks": ""
           },
           "baxis": {
            "gridcolor": "#DFE8F3",
            "linecolor": "#A2B1C6",
            "ticks": ""
           },
           "bgcolor": "white",
           "caxis": {
            "gridcolor": "#DFE8F3",
            "linecolor": "#A2B1C6",
            "ticks": ""
           }
          },
          "title": {
           "x": 0.05
          },
          "xaxis": {
           "automargin": true,
           "gridcolor": "#EBF0F8",
           "linecolor": "#EBF0F8",
           "ticks": "",
           "title": {
            "standoff": 15
           },
           "zerolinecolor": "#EBF0F8",
           "zerolinewidth": 2
          },
          "yaxis": {
           "automargin": true,
           "gridcolor": "#EBF0F8",
           "linecolor": "#EBF0F8",
           "ticks": "",
           "title": {
            "standoff": 15
           },
           "zerolinecolor": "#EBF0F8",
           "zerolinewidth": 2
          }
         }
        },
        "title": {
         "font": {
          "color": "Black",
          "size": 22
         },
         "text": "<b>Hierarchical Clustering",
         "x": 0.5,
         "xanchor": "center",
         "yanchor": "top"
        },
        "width": 1000,
        "xaxis": {
         "mirror": "allticks",
         "rangemode": "tozero",
         "showgrid": false,
         "showline": true,
         "showticklabels": true,
         "ticks": "outside",
         "type": "linear",
         "zeroline": false
        },
        "yaxis": {
         "mirror": "allticks",
         "range": [
          -150,
          0
         ],
         "rangemode": "tozero",
         "showgrid": false,
         "showline": true,
         "showticklabels": true,
         "tickmode": "array",
         "ticks": "outside",
         "ticktext": [
          "3, helps, helpful",
          "11, antidepres, anti",
          "8, generic, brand",
          "14, withdrawal, drug",
          "2, withdrawal, drug",
          "13, dosis, drug",
          "10, drug, weight",
          "1, sex, drive",
          "0, sex, drug",
          "4, life, drug",
          "5, anxiety, drug",
          "7, drug, depression",
          "9, anxiety, drug",
          "6, anxiety, dosis",
          "12, dosis, weeks"
         ],
         "tickvals": [
          -5,
          -15,
          -25,
          -35,
          -45,
          -55,
          -65,
          -75,
          -85,
          -95,
          -105,
          -115,
          -125,
          -135,
          -145
         ],
         "type": "linear",
         "zeroline": false
        }
       }
      }
     },
     "metadata": {},
     "output_type": "display_data"
    }
   ],
   "source": [
    "#Hierarchical clustering \n",
    "model.visualize_hierarchy(custom_labels = True)\n",
    "\n",
    "#Word scores\n",
    "model.visualize_barchart(top_n_topics = 16, n_words=9, custom_labels=True, title= \"Top Words Per Topic\")"
   ]
  },
  {
   "attachments": {},
   "cell_type": "markdown",
   "metadata": {},
   "source": [
    "**Customized plots**"
   ]
  },
  {
   "cell_type": "code",
   "execution_count": 38,
   "metadata": {},
   "outputs": [
    {
     "data": {
      "image/png": "[encoded data removed]",
      "text/plain": [
       "<Figure size 1600x800 with 1 Axes>"
      ]
     },
     "metadata": {},
     "output_type": "display_data"
    },
    {
     "data": {
      "image/png": "[encoded data removed]",
      "text/plain": [
       "<Figure size 1600x800 with 1 Axes>"
      ]
     },
     "metadata": {},
     "output_type": "display_data"
    }
   ],
   "source": [
    "def PivotTable(topic_table):\n",
    "\tto_drop = (-1, 11, 13)\n",
    "\tsubset = topic_table.drop(topic_table[topic_table['Topic'].isin(to_drop)].index)\n",
    "\tdf_pivot = pd.pivot_table(\n",
    "\t\tsubset,\n",
    "\t\tvalues=\"Relative Frequency\",\n",
    "\t\tindex=\"Class\",\n",
    "\t\tcolumns=\"Label\",\n",
    "\t\taggfunc=np.mean)\n",
    "\tsorted_columns = sorted(df_pivot.columns, key=lambda x: int(x.split(',')[0]))\n",
    "\tdf_pivot = df_pivot.reindex(columns=sorted_columns)\n",
    "\treturn df_pivot\n",
    "\n",
    "df_pivot_drug = PivotTable(topic_table_drug)\n",
    "df_pivot_sent = PivotTable(topic_table_sent)\n",
    "\n",
    "#Bar chart \n",
    "\n",
    "def PlotBar(table_pivot):\n",
    "\tax = table_pivot.plot(kind=\"bar\")\n",
    "\tfig = ax.get_figure()\n",
    "\tfig.set_size_inches(16, 8)\n",
    "\tax.set_xlabel(\"Category\")\n",
    "\tax.set_ylabel(\"Relative frequency %\")\n",
    "\tax.set_title(\"Relative Topic Frequency for Each Category\")\n",
    "\tax.legend(loc=\"center left\", bbox_to_anchor=(1.0, 0.5))\n",
    "\tfig.show()\n",
    "\n",
    "#Bar chart for SSRI / SNRI categories\n",
    "PlotBar(df_pivot_drug)\n",
    "\n",
    "#Bar chart for SSRI pos/neg and SNRI pos/neg categories\n",
    "PlotBar(df_pivot_sent)\n"
   ]
  }
 ],
 "metadata": {
  "kernelspec": {
   "display_name": "Python 3",
   "language": "python",
   "name": "python3"
  },
  "language_info": {
   "codemirror_mode": {
    "name": "ipython",
    "version": 3
   },
   "file_extension": ".py",
   "mimetype": "text/x-python",
   "name": "python",
   "nbconvert_exporter": "python",
   "pygments_lexer": "ipython3",
   "version": "3.10.8 (main, Oct 13 2022, 09:48:40) [Clang 14.0.0 (clang-1400.0.29.102)]"
  },
  "orig_nbformat": 4,
  "vscode": {
   "interpreter": {
    "hash": "b0fa6594d8f4cbf19f97940f81e996739fb7646882a419484c72d19e05852a7e"
   }
  }
 },
 "nbformat": 4,
 "nbformat_minor": 2
}
