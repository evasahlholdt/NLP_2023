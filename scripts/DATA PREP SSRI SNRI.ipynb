{
 "cells": [
  {
   "attachments": {},
   "cell_type": "markdown",
   "metadata": {},
   "source": [
    "**Install packages**"
   ]
  },
  {
   "cell_type": "code",
   "execution_count": null,
   "metadata": {},
   "outputs": [],
   "source": [
    "!pip install pandas\n",
    "!pip install numpy\n",
    "!pip install re"
   ]
  },
  {
   "attachments": {},
   "cell_type": "markdown",
   "metadata": {},
   "source": [
    "**Import packages**"
   ]
  },
  {
   "cell_type": "code",
   "execution_count": 1,
   "metadata": {},
   "outputs": [],
   "source": [
    "import pandas as pd\n",
    "import numpy as np\n",
    "import re"
   ]
  },
  {
   "attachments": {},
   "cell_type": "markdown",
   "metadata": {},
   "source": [
    "**Preprocess data**"
   ]
  },
  {
   "cell_type": "code",
   "execution_count": 15,
   "metadata": {},
   "outputs": [],
   "source": [
    "#Preprocessing\n",
    "\n",
    "#### Loading data ####\n",
    "\n",
    "def loadDatasets(filepath1, filepath2):\n",
    "    df1 = pd.read_csv(filepath1)\n",
    "    df2 = pd.read_csv(filepath2)\n",
    "    return pd.concat([df1, df2])\n",
    "\n",
    "drug_reviews = loadDatasets(\"/Users/evasahlholdt/Desktop/MA/NLP/Exam/Code/NLP_exam/datasets/drugsComTest_raw.csv\", \"/Users/evasahlholdt/Desktop/MA/NLP/Exam/Code/NLP_exam/datasets/drugsComTrain_raw.csv\")\n",
    "\n",
    "#### General cleaning #####\n",
    "\n",
    "def generalCleaning(dataset):\n",
    "    dataset = dataset.drop(columns = [\"date\", \"usefulCount\"]) #drop unused columns\n",
    "    dataset = dataset.dropna(subset = [\"condition\", \"drugName\"]) #drop rows when there are NAs in relevant columns\n",
    "    dataset = dataset.drop_duplicates(subset = [\"uniqueID\"]) #remove duplicates\n",
    "    dataset = dataset.drop_duplicates(subset = [\"review\"]) #there appears to be reviews that double due to generic + brand drug names\n",
    "    dataset = dataset[dataset[\"condition\"].str.contains(\"found this comment helpful\") == False] #remove rows missing important information\n",
    "    return(dataset)\n",
    "\n",
    "drug_reviews = generalCleaning(drug_reviews)\n",
    "\n",
    "##### Create depression dataset #####\n",
    "\n",
    "def createDepData(dataset):\n",
    "    dataset = dataset[dataset['condition'].str.contains(\"Depres\")] #select conditions which are concerned with depression\n",
    "    dataset = dataset[dataset[\"condition\"].str.contains(\"Neurotic Depression\") == False] #drop neurotic depression\n",
    "    dataset = dataset[dataset[\"condition\"].str.contains(\"Postpartum Depression\") == False] #drop postpartum depression\n",
    "    dataset = dataset[dataset[\"condition\"].str.contains(\"Persistent Depressive Disorde\") == False] #drop persistent depression\n",
    "    dataset.loc[dataset['condition'].str.contains('Depres'), 'condition'] = 'Depression' #rename all depression conditions to one class\n",
    "    return(dataset)\n",
    "\n",
    "drug_reviews_dep = createDepData(drug_reviews)\n",
    "\n",
    "#### Cleaning the reviews #####\n",
    "\n",
    "#Function for cleaning the reviews for HTML codes (substitute with corresponding characters)\n",
    "\n",
    "def cleanReviews(dataset):\n",
    "    dataset['review'] = dataset['review'].str.replace('&#039;',\"'\")\n",
    "    dataset['review'] = dataset['review'].str.replace('&rsquo;',\"'\")\n",
    "    dataset['review'] = dataset['review'].str.replace('&acute;',\"'\")\n",
    "    dataset['review'] = dataset['review'].str.replace('&lsquo;',\"'\")\n",
    "    dataset['review'] = dataset['review'].str.replace('&amp;',\"and\")\n",
    "    dataset['review'] = dataset['review'].str.replace('&quot;','\"')\n",
    "    dataset['review'] = dataset['review'].str.replace('&ldquo;','\"')\n",
    "    dataset['review'] = dataset['review'].str.replace('&rdquo;','\"')\n",
    "    dataset['review'] = dataset['review'].str.replace('&gt;','>')\n",
    "    dataset['review'] = dataset['review'].str.replace('&lt;','<')\n",
    "    dataset['review'] = dataset['review'].str.replace('&ge;','≥')\n",
    "    dataset['review'] = dataset['review'].str.replace('&pound;','pound')\n",
    "    dataset['review'] = dataset['review'].str.replace('&hellip;','...')\n",
    "    dataset['review'] = dataset['review'].str.replace('&nbsp;',' ')\n",
    "    dataset['review'] = dataset['review'].str.replace('&deg','degree')\n",
    "    dataset['review'] = dataset['review'].str.replace('&bull;','-')\n",
    "    dataset['review'] = dataset['review'].str.replace('&ndash;','-')\n",
    "    return(dataset)\n",
    "\n",
    "drug_reviews_dep = cleanReviews(drug_reviews_dep)"
   ]
  },
  {
   "attachments": {},
   "cell_type": "markdown",
   "metadata": {},
   "source": [
    "**Create SSRI and SNRI drug classes**"
   ]
  },
  {
   "cell_type": "code",
   "execution_count": null,
   "metadata": {},
   "outputs": [],
   "source": [
    "#First, extract all drugs from the drugName column.\n",
    "dep_drugs = drug_reviews_dep[\"drugName\"].unique().tolist()\n",
    "print(dep_drugs) #printing the list allows us to just copy paste the drugs into str.replace, and then we just change all occurences of , , to |.\n",
    "len(dep_drugs)\n",
    "\n",
    "def extractDrugClass(dataset):\n",
    "    dataset['drugName'] = dataset['drugName'].str.replace('Zoloft|Sertraline|Celexa|Citalopram|Lexapro|Escitalopram|Prozac|Fluoxetine|Trintellix|Vortioxetine|Viibryd|Vilazodone|Paxil|Paroxetine|Luvox|Fluvoxamine|Symbyax|Weekly','SSRI', case = False)\n",
    "    dataset['drugName'] = dataset['drugName'].str.replace('Fetzima|Levomilnacipran|Effexor|Venlafaxine|Cymbalta|Duloxetine|Pristiq|Desvenlafaxine','SNRI', case = False)\n",
    "    new_dataset  = dataset[dataset['drugName'].str.contains(\"SSRI|SNRI\") == True]\n",
    "    new_dataset['drugName'] = new_dataset['drugName'].str.replace('SNRI XR', 'SNRI')\n",
    "    new_dataset['drugName'] = new_dataset['drugName'].str.replace('SSRI CR', 'SSRI')\n",
    "    new_dataset['drugName'] = new_dataset['drugName'].str.replace('SSRI SSRI', 'SSRI')\n",
    "    new_dataset = new_dataset[new_dataset[\"drugName\"].str.contains(\"SSRI / olanzapine\") == False]\n",
    "    return(new_dataset)\n",
    "\n",
    "SSRI_SNRI_all = extractDrugClass(drug_reviews_dep)"
   ]
  },
  {
   "attachments": {},
   "cell_type": "markdown",
   "metadata": {},
   "source": [
    "**Create column rating_class: For each drug class and whether the reviews are positive or negative**"
   ]
  },
  {
   "cell_type": "code",
   "execution_count": null,
   "metadata": {},
   "outputs": [],
   "source": [
    "def drugRating(dataset):\n",
    "    dataset['rating'] = dataset['rating'].replace([1,2,3,4,5], 'negative')\n",
    "    dataset['rating'] = dataset['rating'].replace([6,7,8,9,10], 'positive')\n",
    "    dataset.loc[(dataset['rating'] == 'negative') & (dataset['drugName'] == 'SSRI'), 'rating_class'] = 'negative_SSRI'\n",
    "    dataset.loc[(dataset['rating'] == 'positive') & (dataset['drugName'] == 'SSRI'), 'rating_class'] = 'positive_SSRI'\n",
    "    dataset.loc[(dataset['rating'] == 'negative') & (dataset['drugName'] == 'SNRI'), 'rating_class'] = 'negative_SNRI'\n",
    "    dataset.loc[(dataset['rating'] == 'positive') & (dataset['drugName'] == 'SNRI'), 'rating_class'] = 'positive_SNRI'\n",
    "    return dataset\n",
    "\n",
    "SSRI_SNRI_all = drugRating(SSRI_SNRI_all)\n"
   ]
  },
  {
   "attachments": {},
   "cell_type": "markdown",
   "metadata": {},
   "source": [
    "**Relabelling drug names in reviews into \"drug\"**"
   ]
  },
  {
   "cell_type": "code",
   "execution_count": null,
   "metadata": {},
   "outputs": [],
   "source": [
    "#Duplicate dataset to not to overwrite\n",
    "SSRI_SNRI_all_copy = SSRI_SNRI_all.copy()\n",
    "\n",
    "def relabelDrugToDrug(dataset):\n",
    "    dataset['review'] = dataset['review'].str.replace('Zoloft|Sertraline|Celexa|Citalopram|Lexapro|Escitalopram|Prozac|Fluoxetine|Trintellix|Vortioxetine|Viibryd|Vilazodone|Paxil|Paroxetine|Luvox|Fluvoxamine|Symbyax|Weekly|Fetzima|Levomilnacipran|Effexor|Venlafaxine|Cymbalta|Duloxetine|Pristiq|Desvenlafaxine|Brintellix|Elavil|Amitriptyline|Sinequan|Doxepin|Vivactil|Protriptyline|Imipramine|Asendin|Amoxapine|Norpramin|Desipramine|Ludiomil|Maprotiline|Pamelor|Nortriptyline|Anafranil|Clomipramine|Limbitrol|chlordiazepoxide|Desyrel|Oleptro|Trazodone|Nefazodone|Serzone|Remeron|SolTab|Mirtazapine|Parnate|Tranylcypromine|Marplan|Isocarboxazid|Nardil|Phenelzine|Emsam|Selegiline|Abilify|Aripiprazole|Seroquel|Seroquel|Quetiapine|Risperdal|Risperidone|Zyprexa|Olanzapine|Rexulti|Brexpiprazole|Paliperidone|Xanax|Niravam|Alprazolam|Lamotrigine|Tramadol|Provigil|Modafinil|Nuvigil|Armodafinil|Vyvanse|Lisdexamfetamine|Methylin|Methylphenidate|Strattera|Atomoxetine|Wellbutrin|Aplenzin|Bupropion|Budeprion|SSRI|SNRI','drug', case = False)\n",
    "    dataset['review'] = dataset['review'].str.replace(\"St. john's wort|Tryptophan|S-adenosylmethionine|Niacin|Lithium|Deplin|L-methylfolate\",'dietary supplement', case = False)\n",
    "    return dataset\n",
    "\n",
    "SSRI_SNRI_all = relabelDrugToDrug(SSRI_SNRI_all_copy)"
   ]
  },
  {
   "attachments": {},
   "cell_type": "markdown",
   "metadata": {},
   "source": [
    "**Remove additional drug-name related labels**"
   ]
  },
  {
   "cell_type": "code",
   "execution_count": 19,
   "metadata": {},
   "outputs": [],
   "source": [
    "def label_replacer(dataset, label):\n",
    "    dataset['review'] = dataset['review'].str.replace(r'(?s)\\s' + label + '\\s', ' ', case = False, regex = True) #white spaces on both sides\n",
    "    dataset['review'] = dataset['review'].str.replace(r'(?s)\\drug' + label + '\\s', ' ', case = False, regex = True) #when with drug and white space\n",
    "    dataset['review'] = dataset['review'].str.replace(r'(?s)\\W' + label + '\\W', ' ', case = False, regex = True) #when special characters around\n",
    "    dataset['review'] = dataset['review'].str.replace(r'(?s)\\d+' + label + '\\s', ' ', case = False, regex = True) #when number before\n",
    "    return dataset\n",
    "\n",
    "SSRI_SNRI_all = label_replacer(SSRI_SNRI_all, \"XL\")\n",
    "SSRI_SNRI_all = label_replacer(SSRI_SNRI_all, \"XR\")\n",
    "SSRI_SNRI_all = label_replacer(SSRI_SNRI_all, \"CR\")\n",
    "SSRI_SNRI_all = label_replacer(SSRI_SNRI_all, \"SR\")"
   ]
  },
  {
   "attachments": {},
   "cell_type": "markdown",
   "metadata": {},
   "source": [
    "**Relabel mentions of dosages into \"dosis\"**"
   ]
  },
  {
   "cell_type": "code",
   "execution_count": 20,
   "metadata": {},
   "outputs": [],
   "source": [
    "def relabelDoses(dataset):\n",
    "    dataset.review = dataset.apply(lambda row: re.sub(r'\\d+mg', 'dosis', row.review).lower(), 1)\n",
    "    dataset.review = dataset.apply(lambda row: re.sub(r'\\d+ mg', 'dosis', row.review).lower(), 1)\n",
    "    return(dataset)\n",
    "\n",
    "SSRI_SNRI_all = relabelDoses(SSRI_SNRI_all)"
   ]
  },
  {
   "attachments": {},
   "cell_type": "markdown",
   "metadata": {},
   "source": [
    "**Save data**"
   ]
  },
  {
   "cell_type": "code",
   "execution_count": 22,
   "metadata": {},
   "outputs": [],
   "source": [
    "SSRI_SNRI_all.to_csv(r'/Users/evasahlholdt/Desktop/MA/NLP/Exam/Code/NLP_exam/datasets/SSRI_SNRI_all.csv', index = False, header = True)"
   ]
  }
 ],
 "metadata": {
  "kernelspec": {
   "display_name": "Python 3",
   "language": "python",
   "name": "python3"
  },
  "language_info": {
   "codemirror_mode": {
    "name": "ipython",
    "version": 3
   },
   "file_extension": ".py",
   "mimetype": "text/x-python",
   "name": "python",
   "nbconvert_exporter": "python",
   "pygments_lexer": "ipython3",
   "version": "3.9.10"
  },
  "orig_nbformat": 4,
  "vscode": {
   "interpreter": {
    "hash": "aee8b7b246df8f9039afb4144a1f6fd8d2ca17a180786b69acc140d282b71a49"
   }
  }
 },
 "nbformat": 4,
 "nbformat_minor": 2
}
